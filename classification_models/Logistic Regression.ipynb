{
 "cells": [
  {
   "cell_type": "code",
   "execution_count": 2,
   "id": "429e63bd-de4b-4865-9b0f-2898e2136d1a",
   "metadata": {},
   "outputs": [],
   "source": [
    "# 2 different logistic_regression will be implemented\n",
    "# - a custom logistic regression, where I'll create my own cost function, gradient evaluation and descent\n",
    "# - a standard logistic regression from TensorFlow"
   ]
  },
  {
   "cell_type": "code",
   "execution_count": 3,
   "id": "890bb1f7-0a78-4329-8098-7fea1d28e53f",
   "metadata": {},
   "outputs": [],
   "source": [
    "# Custom Logistic Regression\n",
    "# Self note:\n",
    "# there are 3 key functions to build out and understand:\n",
    "# 1. Hypothesis function \n",
    "#         - in our case, it'll be a sigmoid function\n",
    "#         - this is the function that will map input to output\n",
    "# 2. Cost function\n",
    "#         - in our case this is the binary cross entropy (log loss) function\n",
    "#         - this is the function that measures how well our model performs comparing the estimated to the actual\n",
    "# 3. Gradient function\n",
    "#         - in our case, this is the partial derivative of our Cost Function\n",
    "#         - this is the function to find the optimal parameters in our cost function to minimize our cost function (i.e. reduce error)"
   ]
  },
  {
   "cell_type": "code",
   "execution_count": 4,
   "id": "4e9ede4a-c36e-44fc-a081-15db6960a38f",
   "metadata": {},
   "outputs": [],
   "source": [
    "import numpy as np\n",
    "import copy, math\n",
    "import matplotlib.pyplot as plt\n",
    "from tensorflow.keras.datasets import mnist"
   ]
  },
  {
   "cell_type": "code",
   "execution_count": 100,
   "id": "58ef487b",
   "metadata": {},
   "outputs": [
    {
     "name": "stdout",
     "output_type": "stream",
     "text": [
      "(60000,)\n"
     ]
    }
   ],
   "source": [
    "(X_train, y_train), (X_test, y_test) = mnist.load_data()\n",
    "\n",
    "# Preprocess the data\n",
    "X_train_flattened = X_train.reshape(X_train.shape[0], -1) / 255.0  # Normalize and flatten\n",
    "X_test_flattened = X_test.reshape(X_test.shape[0], -1) / 255.0  # Normalize and flatten\n",
    "\n",
    "print(y_train.shape)"
   ]
  },
  {
   "cell_type": "code",
   "execution_count": 101,
   "id": "27382f96",
   "metadata": {},
   "outputs": [],
   "source": [
    "# Initialize parameters\n",
    "num_samples, num_features = X_train_flattened.shape\n",
    "num_classes = 10\n",
    "\n",
    "np.random.seed(0)\n",
    "W = np.random.randn(num_features, num_classes) * 0.01\n",
    "b = np.zeros(num_classes)"
   ]
  },
  {
   "cell_type": "code",
   "execution_count": 94,
   "id": "621bba41",
   "metadata": {},
   "outputs": [
    {
     "name": "stdout",
     "output_type": "stream",
     "text": [
      "Iteration 0, Cost: 2.3042258768700883\n",
      "Iteration 100, Cost: 1.5549540445669334\n",
      "Iteration 200, Cost: 1.1942657719673913\n",
      "Iteration 300, Cost: 0.9997031688065626\n",
      "Iteration 400, Cost: 0.880412571824683\n",
      "Iteration 500, Cost: 0.7998649578765522\n",
      "Iteration 600, Cost: 0.7416089520333589\n",
      "Iteration 700, Cost: 0.6973207742112889\n",
      "Iteration 800, Cost: 0.6623705783600958\n",
      "Iteration 900, Cost: 0.6339835234050717\n",
      "Train Accuracy: 86.07%\n",
      "Test Accuracy: 87.08%\n"
     ]
    }
   ],
   "source": [
    "# Define softmax function\n",
    "def softmax(z):\n",
    "    exp_z = np.exp(z - np.max(z, axis=1, keepdims=True))  # Stability improvement by subtracting max\n",
    "    return exp_z / np.sum(exp_z, axis=1, keepdims=True)\n",
    "\n",
    "# Define cost function (cross-entropy loss)\n",
    "def compute_cost(X, y, W, b):\n",
    "    m = X.shape[0]\n",
    "    z = np.dot(X, W) + b\n",
    "    probabilities = softmax(z)\n",
    "    log_probabilities = -np.log(probabilities[np.arange(m), y])\n",
    "    cost = np.sum(log_probabilities) / m\n",
    "    return cost\n",
    "\n",
    "# Define gradient computation\n",
    "def compute_gradients(X, y, W, b):\n",
    "    m = X.shape[0]\n",
    "    z = np.dot(X, W) + b\n",
    "    probabilities = softmax(z)\n",
    "    probabilities[np.arange(m), y] -= 1\n",
    "    dw = np.dot(X.T, probabilities) / m\n",
    "    db = np.sum(probabilities, axis=0) / m\n",
    "    return dw, db\n",
    "\n",
    "# Define gradient descent\n",
    "def gradient_descent(X, y, W, b, alpha, num_iterations):\n",
    "    cost_history = []\n",
    "    for i in range(num_iterations):\n",
    "        dw, db = compute_gradients(X, y, W, b)\n",
    "        W -= alpha * dw\n",
    "        b -= alpha * db\n",
    "        cost = compute_cost(X, y, W, b)\n",
    "        cost_history.append(cost)\n",
    "        if i % 100 == 0:\n",
    "            print(f\"Iteration {i}, Cost: {cost}\")\n",
    "    return W, b, cost_history"
   ]
  },
  {
   "cell_type": "code",
   "execution_count": 75,
   "id": "60e61665-f3b5-4619-8d4c-07e5ba9c301c",
   "metadata": {},
   "outputs": [],
   "source": [
    "# ONLY FOR REFERENCE hypothesis function for a binary classification problem\n",
    "# parameters:\n",
    "#   W: weights (a vector)\n",
    "#   b: biases\n",
    "def sigmoid(X, w, b):\n",
    "    z = np.dot(w, X) + b\n",
    "    h_x = 1 / (1 + np.exp(-z))\n",
    "    return h_x"
   ]
  },
  {
   "cell_type": "code",
   "execution_count": null,
   "id": "461a5267",
   "metadata": {},
   "outputs": [],
   "source": [
    "# Training the model\n",
    "alpha = 0.01\n",
    "num_iterations = 1000\n",
    "\n",
    "W, b, cost_history = gradient_descent(X_train_flattened, y_train, W, b, alpha, num_iterations)\n",
    "\n",
    "# Evaluate the model\n",
    "def predict(X, W, b):\n",
    "    z = np.dot(X, W) + b\n",
    "    probabilities = softmax(z)\n",
    "    return np.argmax(probabilities, axis=1)\n",
    "\n",
    "y_train_pred = predict(X_train_flattened, W, b)\n",
    "y_test_pred = predict(X_test_flattened, W, b)\n",
    "\n",
    "# Calculate accuracy\n",
    "train_accuracy = np.mean(y_train_pred == y_train) * 100\n",
    "test_accuracy = np.mean(y_test_pred == y_test) * 100\n",
    "\n",
    "print(f\"Train Accuracy: {train_accuracy:.2f}%\")\n",
    "print(f\"Test Accuracy: {test_accuracy:.2f}%\")"
   ]
  },
  {
   "cell_type": "code",
   "execution_count": null,
   "id": "3d8c641b",
   "metadata": {},
   "outputs": [],
   "source": []
  }
 ],
 "metadata": {
  "kernelspec": {
   "display_name": "Python 3 (ipykernel)",
   "language": "python",
   "name": "python3"
  },
  "language_info": {
   "codemirror_mode": {
    "name": "ipython",
    "version": 3
   },
   "file_extension": ".py",
   "mimetype": "text/x-python",
   "name": "python",
   "nbconvert_exporter": "python",
   "pygments_lexer": "ipython3",
   "version": "3.12.3"
  }
 },
 "nbformat": 4,
 "nbformat_minor": 5
}
