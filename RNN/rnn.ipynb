{
 "cells": [
  {
   "cell_type": "code",
   "execution_count": 2,
   "metadata": {},
   "outputs": [],
   "source": [
    "from string_to_one_hot import string_to_one_hot\n",
    "import numpy as np"
   ]
  },
  {
   "cell_type": "code",
   "execution_count": 3,
   "metadata": {},
   "outputs": [],
   "source": [
    "class InputLayer:\n",
    "    inputs: np.ndarray # sequential data\n",
    "    U: np.ndarray = None # weight matrix connecting input -> hidden layer\n",
    "    delta_U: np.ndarray = None # gradient calculated during BPTT\n",
    "\n",
    "    def __init__(self, inputs: np.ndarray, hidden_size: int) -> None:\n",
    "        self.inputs = inputs\n",
    "        self.U = np.random.uniform(low=0, high=1, size=(hidden_size, len(inputs[0])))\n",
    "        self.delta_U = np.zeros_like(self.U)\n",
    "\n",
    "    def get_input(self, time_step: int) -> np.ndarray:\n",
    "        return self.inputs[time_step]\n",
    "    \n",
    "    def weighted_sum(self, time_step: int) -> np.ndarray:\n",
    "        return self.U @ self.get_input(time_step)\n",
    "\n",
    "    def calculate_deltas_per_step(\n",
    "            self, time_step: int, delta_weighted_sum: np.ndarray\n",
    "    ) -> None:\n",
    "        self.dalta_U += delta_weighted_sum @ self.get_input(time_step).T\n",
    "\n",
    "    def update_weights_and_bias(self, learning_rate: float) -> None:\n",
    "        self.U = self.U - learning_rate * self.delta_U"
   ]
  },
  {
   "cell_type": "markdown",
   "metadata": {},
   "source": []
  },
  {
   "cell_type": "code",
   "execution_count": null,
   "metadata": {},
   "outputs": [],
   "source": [
    "class HiddenLayer:\n",
    "    states = None\n",
    "    W = None\n",
    "    delta_W = None\n",
    "    bias = None\n",
    "    delta_bias = None\n",
    "    next_delta_activation = None\n",
    "\n",
    "    def "
   ]
  }
 ],
 "metadata": {
  "kernelspec": {
   "display_name": "Python 3",
   "language": "python",
   "name": "python3"
  },
  "language_info": {
   "codemirror_mode": {
    "name": "ipython",
    "version": 3
   },
   "file_extension": ".py",
   "mimetype": "text/x-python",
   "name": "python",
   "nbconvert_exporter": "python",
   "pygments_lexer": "ipython3",
   "version": "3.12.3"
  }
 },
 "nbformat": 4,
 "nbformat_minor": 2
}
